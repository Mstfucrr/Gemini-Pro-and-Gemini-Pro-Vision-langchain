{
 "cells": [
  {
   "cell_type": "markdown",
   "metadata": {},
   "source": [
    "# Gemini Pro and Gemini Pro Vision Overview\n",
    "\n",
    "## Gemini Pro: AI Content Generation\n",
    "\n",
    "Gemini Pro is an advanced generative AI model developed by Google Generative AI. It excels in generating high-quality content in various languages and is equipped with the capability to understand and respond to user queries.\n",
    "\n",
    "### Generating Content in Turkish\n",
    "\n",
    "You can utilize Gemini Pro to generate content in Turkish. In the provided code snippet, there's an example where the model is prompted with the question \"Üretken Yapay Zeka nedir? Detaylı bir açıklama yap.\" The response is then formatted into Markdown for easy readability.\n",
    "\n",
    "### Conversational AI with Gemini Pro\n",
    "\n",
    "Gemini Pro can also be employed for conversational AI tasks. The code demonstrates how Gemini Pro is utilized through the `ChatGoogleGenerativeAI` class to answer questions in a clear and concise manner. For instance, it answers the question \"Transformer mimarisini lise öğrencisi seviyesinde detaylı, net ve sade bir dil ile anlat.\"\n",
    "\n",
    "## Gemini Pro Vision: Image Recognition\n",
    "\n",
    "Gemini Pro Vision specializes in image recognition. By providing an image URL as input, the model can identify and describe the contents of the image. In the given example, an image URL is supplied, and Gemini Pro Vision is prompted with the question \"Resimde ne görüyorsun?\"\n",
    "\n",
    "## Chat with Multi Documents and Question Answering\n",
    "\n",
    "The code showcases a comprehensive question-answering system using a combination of different components. It loads a set of documents, creates embeddings using Google Generative AI, and sets up a question-answering chain. The prompt template guides the system to answer questions based on the provided context.\n",
    "\n",
    "### Relevant Questions\n",
    "\n",
    "The system can be tested with questions related to the \"IMAT\" exam. For example:\n",
    "- \"IMAT sınavı için tercihler ne zaman yapılır?\"\n",
    "- \"IMAT sınavı zor mu?\"\n",
    "\n",
    "### Irrelevant Question\n",
    "\n",
    "An irrelevant question is also included to demonstrate the system's ability to handle questions it does not have information about.\n",
    "\n"
   ]
  },
  {
   "cell_type": "markdown",
   "metadata": {},
   "source": [
    "## Import required libraries"
   ]
  },
  {
   "cell_type": "code",
   "execution_count": 41,
   "metadata": {
    "id": "w8mn_UAZL8IK",
    "ExecuteTime": {
     "end_time": "2024-03-28T17:36:51.830292Z",
     "start_time": "2024-03-28T17:36:51.827333Z"
    }
   },
   "outputs": [],
   "source": [
    "import os\n",
    "from dotenv import load_dotenv\n",
    "import textwrap\n",
    "import requests\n",
    "import io\n",
    "import google.generativeai as genai\n",
    "from PIL import Image \n",
    "from IPython.display import display\n",
    "from IPython.display import Markdown\n",
    "from langchain_google_genai import ChatGoogleGenerativeAI\n",
    "from langchain_google_genai import GoogleGenerativeAIEmbeddings"
   ]
  },
  {
   "cell_type": "markdown",
   "metadata": {},
   "source": [
    "## Set the API key"
   ]
  },
  {
   "cell_type": "code",
   "execution_count": 66,
   "metadata": {
    "id": "K5x7DCNzMA1v",
    "ExecuteTime": {
     "end_time": "2024-03-28T17:40:13.836448Z",
     "start_time": "2024-03-28T17:40:13.833196Z"
    }
   },
   "outputs": [],
   "source": [
    "load_dotenv()\n",
    "if 'GOOGLE_API_KEY' not in os.environ:\n",
    "    raise ValueError(\"API key not found. Please set the GEMINI_API_KEY environment variable.\")\n",
    "GOOGLE_API_KEY = os.getenv(\"GOOGLE_API_KEY\")\n",
    "genai.configure(api_key=GOOGLE_API_KEY)"
   ]
  },
  {
   "cell_type": "markdown",
   "source": [
    "### Create a helper function that will convert the markdown into nicely formatted text"
   ],
   "metadata": {
    "collapsed": false
   }
  },
  {
   "cell_type": "code",
   "execution_count": 43,
   "metadata": {
    "id": "ttLV01bZMWij",
    "ExecuteTime": {
     "end_time": "2024-03-28T17:36:51.920881Z",
     "start_time": "2024-03-28T17:36:51.917361Z"
    }
   },
   "outputs": [],
   "source": [
    "#Create a helper function that will convert the markdown into nicely formatted text\n",
    "def to_markdown(text):\n",
    "  text = text.replace('•','*')\n",
    "  return Markdown(textwrap.indent(text, '>', predicate=lambda _: True))"
   ]
  },
  {
   "cell_type": "markdown",
   "source": [
    "## List available models"
   ],
   "metadata": {
    "collapsed": false
   }
  },
  {
   "cell_type": "code",
   "execution_count": 44,
   "metadata": {
    "colab": {
     "base_uri": "https://localhost:8080/",
     "height": 128
    },
    "id": "hOb_1S4yMYM9",
    "outputId": "7e45e063-f1b0-4aad-d46f-578a32efa503",
    "ExecuteTime": {
     "end_time": "2024-03-28T17:36:52.890781Z",
     "start_time": "2024-03-28T17:36:51.921878Z"
    }
   },
   "outputs": [
    {
     "name": "stdout",
     "output_type": "stream",
     "text": [
      "models/gemini-1.0-pro\n",
      "models/gemini-1.0-pro-001\n",
      "models/gemini-1.0-pro-latest\n",
      "models/gemini-1.0-pro-vision-latest\n",
      "models/gemini-pro\n",
      "models/gemini-pro-vision\n"
     ]
    }
   ],
   "source": [
    "for m in genai.list_models():\n",
    "  if 'generateContent' in m.supported_generation_methods:\n",
    "    print(m.name)"
   ]
  },
  {
   "cell_type": "markdown",
   "metadata": {
    "id": "kD_X1bN-ck9x"
   },
   "source": [
    "# Gemini Pro"
   ]
  },
  {
   "cell_type": "markdown",
   "source": [
    "## Create a generative model"
   ],
   "metadata": {
    "collapsed": false
   }
  },
  {
   "cell_type": "code",
   "execution_count": 45,
   "metadata": {
    "id": "usxAjzZ-MaQ_",
    "ExecuteTime": {
     "end_time": "2024-03-28T17:36:52.894780Z",
     "start_time": "2024-03-28T17:36:52.891782Z"
    }
   },
   "outputs": [],
   "source": [
    "model = genai.GenerativeModel('gemini-pro')"
   ]
  },
  {
   "cell_type": "markdown",
   "source": [
    "## Generate content in Turkish"
   ],
   "metadata": {
    "collapsed": false
   }
  },
  {
   "cell_type": "code",
   "execution_count": 46,
   "metadata": {
    "colab": {
     "base_uri": "https://localhost:8080/",
     "height": 54
    },
    "id": "0evLWTqoMhKx",
    "outputId": "1cb4aa0c-12a2-4a57-a07e-e9897504e663",
    "ExecuteTime": {
     "end_time": "2024-03-28T17:37:04.770295Z",
     "start_time": "2024-03-28T17:36:52.894780Z"
    }
   },
   "outputs": [],
   "source": [
    "response = model.generate_content(\"Üretken Yapay Zeka nedir? Detaylı bir açıklama yap.\")"
   ]
  },
  {
   "cell_type": "code",
   "execution_count": 47,
   "metadata": {
    "colab": {
     "base_uri": "https://localhost:8080/",
     "height": 221
    },
    "id": "FjjNglaOMkz3",
    "outputId": "36e3b00a-5b5d-4995-bc32-71586cda44ba",
    "ExecuteTime": {
     "end_time": "2024-03-28T17:37:04.774797Z",
     "start_time": "2024-03-28T17:37:04.771294Z"
    }
   },
   "outputs": [
    {
     "data": {
      "text/plain": "\"**Üretken Yapay Zeka (Üretken AI)**\\n\\nÜretken Yapay Zeka (Üretken AI), insan benzeri metinler, görseller, müzik ve videolar gibi çeşitli içerik biçimleri oluşturmak için kullanılan bir Yapay Zeka (AI) türüdür. İnsan yaratıcılığını artırarak içerik geliştirme sürecini hızlandırmayı ve iyileştirmeyi amaçlar.\\n\\n**Çalışma Prensibi**\\n\\nÜretken AI, derin öğrenme ve doğal dil işleme (NLP) gibi ileri düzey makine öğrenimi tekniklerini kullanır. Büyük miktarlarda veri üzerinde eğitilen bu modeller, örüntüleri ve stilleri tanımlamayı öğrenebilir. Daha sonra bu bilgileri, yeni ve orijinal içerikler oluşturmak için kullanabilirler.\\n\\n**Örnekler**\\n\\nÜretken AI'nın yaygın olarak kullanılan bazı örnekleri şunlardır:\\n\\n* **Doğal Dil İşleme:** Sohbet robotları, metin oluşturma, dil çevirisi\\n* **Görüntü Oluşturma:** Resim ve fotoğraf oluşturma, görüntü düzenleme\\n* **Müzik Oluşturma:** Melodi ve şarkı sözü yazma, müzik düzenleme\\n* **Video Oluşturma:** Videoların oluşturulması ve düzenlenmesi\\n\\n**Faydaları**\\n\\nÜretken AI, çok sayıda fayda sağlar, bunlar arasında şunlar yer alır:\\n\\n* **İçerik Oluşturma Süresinin Kısaltılması:** Üretken AI, yazarlar, tasarımcılar ve müzisyenlerin görevlerini hızlandırarak içerik oluşturma süresini önemli ölçüde kısaltabilir.\\n* **İçerik Kalitesinin Artırılması:** Üretken AI, insan benzeri içerik oluşturabilir ve hatta mevcut içerikleri iyileştirebilir. Bu, daha ilgi çekici ve etkili sonuçlar sağlayabilir.\\n* **Yaratıcılığın Artırılması:** Üretken AI, insanlara yeni fikirler ve ilham vermelerine yardımcı olarak yaratıcılıklarını artırabilir.\\n* **Maliyetlerin Azaltılması:** Üretken AI, insan işgücüne olan ihtiyacı azaltarak içerik geliştirme maliyetlerini düşürebilir.\\n\\n**Uygulamalar**\\n\\nÜretken AI, aşağıdakiler de dahil olmak üzere çok çeşitli uygulamalarda kullanılmaktadır:\\n\\n* **Pazarlama:** Ürün tanıtımları, blog gönderileri, sosyal medya metinleri\\n* **Medya:** Haber makaleleri, senaryolar, müzik\\n* **Eğitim:** Ders planları, çevrimiçi kurslar, test soruları\\n* **Müşteri Hizmetleri:** Sohbet robotları, e-posta yanıtları, SSS bölümleri\\n\\n**Geleceği**\\n\\nÜretken AI, gelişen bir alandır ve gelecekte içerik oluşturma şeklimizi daha da dönüştürmesi beklenmektedir. Daha sofistike modeller ve daha geniş uygulamalar, yaratıcı endüstriler ve ötesinde devrim niteliğinde değişikliklere yol açabilir.\""
     },
     "execution_count": 47,
     "metadata": {},
     "output_type": "execute_result"
    }
   ],
   "source": [
    "response.text"
   ]
  },
  {
   "cell_type": "code",
   "execution_count": 48,
   "metadata": {
    "colab": {
     "base_uri": "https://localhost:8080/",
     "height": 672
    },
    "id": "L-TLL9HeMrAA",
    "outputId": "0b92823d-e045-4089-d31a-94a331c5c156",
    "ExecuteTime": {
     "end_time": "2024-03-28T17:37:04.779854Z",
     "start_time": "2024-03-28T17:37:04.775319Z"
    }
   },
   "outputs": [
    {
     "data": {
      "text/plain": "<IPython.core.display.Markdown object>",
      "text/markdown": ">**Üretken Yapay Zeka (Üretken AI)**\n>\n>Üretken Yapay Zeka (Üretken AI), insan benzeri metinler, görseller, müzik ve videolar gibi çeşitli içerik biçimleri oluşturmak için kullanılan bir Yapay Zeka (AI) türüdür. İnsan yaratıcılığını artırarak içerik geliştirme sürecini hızlandırmayı ve iyileştirmeyi amaçlar.\n>\n>**Çalışma Prensibi**\n>\n>Üretken AI, derin öğrenme ve doğal dil işleme (NLP) gibi ileri düzey makine öğrenimi tekniklerini kullanır. Büyük miktarlarda veri üzerinde eğitilen bu modeller, örüntüleri ve stilleri tanımlamayı öğrenebilir. Daha sonra bu bilgileri, yeni ve orijinal içerikler oluşturmak için kullanabilirler.\n>\n>**Örnekler**\n>\n>Üretken AI'nın yaygın olarak kullanılan bazı örnekleri şunlardır:\n>\n>* **Doğal Dil İşleme:** Sohbet robotları, metin oluşturma, dil çevirisi\n>* **Görüntü Oluşturma:** Resim ve fotoğraf oluşturma, görüntü düzenleme\n>* **Müzik Oluşturma:** Melodi ve şarkı sözü yazma, müzik düzenleme\n>* **Video Oluşturma:** Videoların oluşturulması ve düzenlenmesi\n>\n>**Faydaları**\n>\n>Üretken AI, çok sayıda fayda sağlar, bunlar arasında şunlar yer alır:\n>\n>* **İçerik Oluşturma Süresinin Kısaltılması:** Üretken AI, yazarlar, tasarımcılar ve müzisyenlerin görevlerini hızlandırarak içerik oluşturma süresini önemli ölçüde kısaltabilir.\n>* **İçerik Kalitesinin Artırılması:** Üretken AI, insan benzeri içerik oluşturabilir ve hatta mevcut içerikleri iyileştirebilir. Bu, daha ilgi çekici ve etkili sonuçlar sağlayabilir.\n>* **Yaratıcılığın Artırılması:** Üretken AI, insanlara yeni fikirler ve ilham vermelerine yardımcı olarak yaratıcılıklarını artırabilir.\n>* **Maliyetlerin Azaltılması:** Üretken AI, insan işgücüne olan ihtiyacı azaltarak içerik geliştirme maliyetlerini düşürebilir.\n>\n>**Uygulamalar**\n>\n>Üretken AI, aşağıdakiler de dahil olmak üzere çok çeşitli uygulamalarda kullanılmaktadır:\n>\n>* **Pazarlama:** Ürün tanıtımları, blog gönderileri, sosyal medya metinleri\n>* **Medya:** Haber makaleleri, senaryolar, müzik\n>* **Eğitim:** Ders planları, çevrimiçi kurslar, test soruları\n>* **Müşteri Hizmetleri:** Sohbet robotları, e-posta yanıtları, SSS bölümleri\n>\n>**Geleceği**\n>\n>Üretken AI, gelişen bir alandır ve gelecekte içerik oluşturma şeklimizi daha da dönüştürmesi beklenmektedir. Daha sofistike modeller ve daha geniş uygulamalar, yaratıcı endüstriler ve ötesinde devrim niteliğinde değişikliklere yol açabilir."
     },
     "execution_count": 48,
     "metadata": {},
     "output_type": "execute_result"
    }
   ],
   "source": [
    "to_markdown(response.text)"
   ]
  },
  {
   "cell_type": "markdown",
   "source": [
    "# Chat with Gemini Pro"
   ],
   "metadata": {
    "collapsed": false
   }
  },
  {
   "cell_type": "markdown",
   "source": [
    "## Create a ChatGoogleGenerativeAI instance"
   ],
   "metadata": {
    "collapsed": false
   }
  },
  {
   "cell_type": "code",
   "execution_count": 49,
   "metadata": {
    "colab": {
     "base_uri": "https://localhost:8080/",
     "height": 702
    },
    "id": "X87-sDOYMwCq",
    "outputId": "435c8c10-1adc-4d7b-a6b7-e73ce7c6aaa8",
    "ExecuteTime": {
     "end_time": "2024-03-28T17:37:12.584192Z",
     "start_time": "2024-03-28T17:37:04.779854Z"
    }
   },
   "outputs": [
    {
     "data": {
      "text/plain": "<IPython.core.display.Markdown object>",
      "text/markdown": ">**Transformer Mimarisi**\n>\n>Transformer, metin işleme ve doğal dil işleme görevlerinde kullanılan bir sinir ağı türüdür. İşte lise öğrencisi seviyesinde sade bir açıklama:\n>\n>**Dikkat Mekanizması:**\n>Transformer'ın en önemli özelliği \"dikkat mekanizmasıdır\". Bu mekanizma, modelin bir cümle veya metindeki belirli kelimelere odaklanmasını sağlar.\n>\n>**Kodlayıcı ve Kod Çözücü:**\n>Transformer, iki ana bileşenden oluşur: kodlayıcı ve kod çözücü. Kodlayıcı, metni bir dizi sayıya dönüştürürken, kod çözücü bu sayıları tekrar metne dönüştürür.\n>\n>**Kodlayıcı:**\n>* Metni kelimelere ayırır ve her kelimeye bir sayı atar.\n>* Dikkat mekanizmasını kullanarak metindeki önemli kelimelere odaklanır.\n>* Bu bilgileri, metnin sayısal bir temsilini oluşturan bağlamsal gömülümler olarak kaydeder.\n>\n>**Kod Çözücü:**\n>* Bağlamsal gömülümleri alır ve bunları kelime tahminleri oluşturmak için kullanır.\n>* Dikkat mekanizmasını kullanarak, bir sonraki kelimeyi tahmin etmek için metnin daha önceki kısımlarına odaklanır.\n>* Son kelimeyi tahmin edene kadar bu işlemi tekrarlar.\n>\n>**Çalışma Prensibi:**\n>Transformer, bir metin dizisini alır ve bunu bir dizi sayıya dönüştürür. Ardından, bu sayılar üzerinde dikkat mekanizmasını kullanarak, metnin önemli kısımlarına odaklanır. Son olarak, metni tekrar oluşturmak için bu bilgileri kullanır.\n>\n>**Kullanım Alanları:**\n>Transformer, şu anda aşağıdakiler de dahil olmak üzere çeşitli doğal dil işleme görevlerinde kullanılmaktadır:\n>\n>* Makine çevirisi\n>* Metin özeti\n>* Soru cevaplama\n>* Metin sınıflandırması"
     },
     "execution_count": 49,
     "metadata": {},
     "output_type": "execute_result"
    }
   ],
   "source": [
    "llm = ChatGoogleGenerativeAI(model=\"gemini-pro\", google_api_key=GOOGLE_API_KEY)\n",
    "\n",
    "result = llm.invoke(\"Transformer mimarisini lise öğrencisi seviyesinde detaylı, net ve sade bir dil ile anlat.\")\n",
    "\n",
    "to_markdown(result.content)"
   ]
  },
  {
   "cell_type": "markdown",
   "metadata": {
    "id": "VZFuFCqBco8L"
   },
   "source": [
    "# **Gemini** **Pro** **Vision**"
   ]
  },
  {
   "cell_type": "markdown",
   "source": [
    "### Create show_image function to display the image"
   ],
   "metadata": {
    "collapsed": false
   }
  },
  {
   "cell_type": "code",
   "execution_count": 50,
   "metadata": {
    "colab": {
     "base_uri": "https://localhost:8080/",
     "height": 317
    },
    "id": "U_PaHEsuR_4e",
    "outputId": "2ceb1e40-48a1-4433-9d2b-4b45a0c3aef2",
    "ExecuteTime": {
     "end_time": "2024-03-28T17:37:13.015525Z",
     "start_time": "2024-03-28T17:37:12.584192Z"
    }
   },
   "outputs": [
    {
     "data": {
      "text/plain": "<PIL.JpegImagePlugin.JpegImageFile image mode=RGB size=200x300>",
      "image/png": "[encoded data removed]",
      "image/jpeg": "[encoded data removed]"
     },
     "metadata": {},
     "output_type": "display_data"
    }
   ],
   "source": [
    "def show_image(url):\n",
    "  response = requests.get(url)\n",
    "  image = Image.open(io.BytesIO(response.content))\n",
    "  display(image)\n",
    "\n",
    "show_image(\"https://picsum.photos/seed/picsum/200/300\")"
   ]
  },
  {
   "cell_type": "markdown",
   "source": [
    "### Create a HumanMessage instance"
   ],
   "metadata": {
    "collapsed": false
   }
  },
  {
   "cell_type": "code",
   "execution_count": 51,
   "metadata": {
    "id": "OIn7yfuaTTb0",
    "ExecuteTime": {
     "end_time": "2024-03-28T17:37:13.019673Z",
     "start_time": "2024-03-28T17:37:13.015525Z"
    }
   },
   "outputs": [],
   "source": [
    "from langchain_core.messages import HumanMessage\n",
    "from langchain_google_genai import ChatGoogleGenerativeAI\n",
    "\n",
    "llm = ChatGoogleGenerativeAI(model=\"gemini-pro-vision\",temperature = 0.3)\n",
    "\n",
    "message = HumanMessage(\n",
    "    content=[\n",
    "        {\n",
    "            \"type\":\"text\",\n",
    "            \"text\":\"Resimde ne görüyorsun?\"\n",
    "        },\n",
    "        {\n",
    "            \"type\":\"image_url\",\n",
    "            \"image_url\": \"https://picsum.photos/seed/picsum/200/300\"\n",
    "        }\n",
    "    ]\n",
    ")\n"
   ]
  },
  {
   "cell_type": "markdown",
   "source": [
    "### Invoke the model with the message"
   ],
   "metadata": {
    "collapsed": false
   }
  },
  {
   "cell_type": "code",
   "execution_count": 52,
   "metadata": {
    "colab": {
     "base_uri": "https://localhost:8080/"
    },
    "id": "nWrgR87ITdfS",
    "outputId": "17255c1b-c946-4161-c014-44805d996b20",
    "ExecuteTime": {
     "end_time": "2024-03-28T17:37:19.918117Z",
     "start_time": "2024-03-28T17:37:13.019710Z"
    }
   },
   "outputs": [
    {
     "data": {
      "text/plain": "AIMessage(content=' Resimde karla kaplı bir dağ görüyorum. Dağın tepesi bulutların arasına gizlenmiş. Dağın etekleri ise karla kaplı. Güneş dağın arkasından doğuyor ve gökyüzünü pembe ve turuncu renklere boyuyor.')"
     },
     "execution_count": 52,
     "metadata": {},
     "output_type": "execute_result"
    }
   ],
   "source": [
    "llm.invoke([message])"
   ]
  },
  {
   "cell_type": "markdown",
   "metadata": {
    "id": "xArz8y6kqchT"
   },
   "source": [
    "# **Chat** **with** **Multi Documents**"
   ]
  },
  {
   "cell_type": "markdown",
   "source": [
    "## Import required libraries"
   ],
   "metadata": {
    "collapsed": false
   }
  },
  {
   "cell_type": "code",
   "execution_count": 53,
   "metadata": {
    "id": "rxWDG0nnUH_f",
    "ExecuteTime": {
     "end_time": "2024-03-28T17:37:19.922670Z",
     "start_time": "2024-03-28T17:37:19.919116Z"
    }
   },
   "outputs": [],
   "source": [
    "from langchain import PromptTemplate\n",
    "from langchain.chains.question_answering import load_qa_chain\n",
    "from langchain.document_loaders import PyPDFDirectoryLoader\n",
    "from langchain.text_splitter import RecursiveCharacterTextSplitter\n",
    "from langchain.vectorstores import Chroma"
   ]
  },
  {
   "cell_type": "markdown",
   "source": [
    "## Load the documents"
   ],
   "metadata": {
    "collapsed": false
   }
  },
  {
   "cell_type": "code",
   "execution_count": 54,
   "metadata": {
    "id": "B2nIhey9UQ-e",
    "ExecuteTime": {
     "end_time": "2024-03-28T17:37:21.876202Z",
     "start_time": "2024-03-28T17:37:19.922670Z"
    }
   },
   "outputs": [],
   "source": [
    "loader = PyPDFDirectoryLoader(\"pdfs\")\n",
    "data = loader.load_and_split()"
   ]
  },
  {
   "cell_type": "markdown",
   "source": [
    "### Combine the context"
   ],
   "metadata": {
    "collapsed": false
   }
  },
  {
   "cell_type": "code",
   "execution_count": 55,
   "metadata": {
    "id": "N-V4mZnAUh04",
    "ExecuteTime": {
     "end_time": "2024-03-28T17:37:21.879859Z",
     "start_time": "2024-03-28T17:37:21.876720Z"
    }
   },
   "outputs": [],
   "source": [
    "context = \"\\n\".join(str(p.page_content) for p in data)"
   ]
  },
  {
   "cell_type": "code",
   "execution_count": 56,
   "metadata": {
    "colab": {
     "base_uri": "https://localhost:8080/"
    },
    "id": "UGIPIdSVUlgm",
    "outputId": "7d1e403e-f6f7-452a-8b21-0c3520d70f36",
    "ExecuteTime": {
     "end_time": "2024-03-28T17:37:21.882844Z",
     "start_time": "2024-03-28T17:37:21.880855Z"
    }
   },
   "outputs": [
    {
     "name": "stdout",
     "output_type": "stream",
     "text": [
      "The total number of words in the context: 29557\n"
     ]
    }
   ],
   "source": [
    "print(\"The total number of words in the context:\", len(context))"
   ]
  },
  {
   "cell_type": "markdown",
   "source": [
    "### Split the context into chunks"
   ],
   "metadata": {
    "collapsed": false
   }
  },
  {
   "cell_type": "code",
   "execution_count": 57,
   "metadata": {
    "id": "9aKWsRo5Unsh",
    "ExecuteTime": {
     "end_time": "2024-03-28T17:37:21.888511Z",
     "start_time": "2024-03-28T17:37:21.883841Z"
    }
   },
   "outputs": [],
   "source": [
    "text_splitter = RecursiveCharacterTextSplitter(chunk_size=4096, chunk_overlap=1000)\n",
    "texts_chunk = text_splitter.split_text(context)"
   ]
  },
  {
   "cell_type": "markdown",
   "source": [
    "## Create embeddings"
   ],
   "metadata": {
    "collapsed": false
   }
  },
  {
   "cell_type": "code",
   "execution_count": 58,
   "metadata": {
    "id": "BdnXd-_YUyfB",
    "ExecuteTime": {
     "end_time": "2024-03-28T17:37:21.891766Z",
     "start_time": "2024-03-28T17:37:21.889511Z"
    }
   },
   "outputs": [],
   "source": [
    "embeddings = GoogleGenerativeAIEmbeddings(model = \"models/embedding-001\")"
   ]
  },
  {
   "cell_type": "markdown",
   "source": [
    "## Create a vector index"
   ],
   "metadata": {
    "collapsed": false
   }
  },
  {
   "cell_type": "code",
   "execution_count": 59,
   "metadata": {
    "id": "vh-4ln_5VBNx",
    "ExecuteTime": {
     "end_time": "2024-03-28T17:37:23.376479Z",
     "start_time": "2024-03-28T17:37:21.891766Z"
    }
   },
   "outputs": [],
   "source": [
    "vector_index = Chroma.from_texts(texts_chunk, embeddings).as_retriever(search_kwargs={\"k\":10})"
   ]
  },
  {
   "cell_type": "markdown",
   "source": [
    "## Create a prompt template for the question-answering chain"
   ],
   "metadata": {
    "collapsed": false
   }
  },
  {
   "cell_type": "code",
   "execution_count": 60,
   "metadata": {
    "id": "RESbRct2VSWn",
    "ExecuteTime": {
     "end_time": "2024-03-28T17:37:23.380032Z",
     "start_time": "2024-03-28T17:37:23.377475Z"
    }
   },
   "outputs": [],
   "source": [
    "prompt_template =  \"\"\"\n",
    "  Soruyu verilen bağlama göre en anlaşılır ve detaylı şekilde cevapla.\n",
    "  Gelen sorular karşılaştırma sorusu, genel sorular veya direk bilgi istenen sorular olabilir.\n",
    "  Karşılaştırma sorularına bağlamdan anlamlı bir sonuç çıkararak cevap vereceksin.\n",
    "\n",
    "  Sana sağlanan dokümanlarda bilgisi bulunmayan bir bağlama yanıt olarak \"Metinde bilgi bulunmamaktadır\" veya \"Bilmiyorum\" cevabını vereceksin.\n",
    "\n",
    "  Context:\\n {context}?\\n\n",
    "  Question: \\n{question}\\n\n",
    "\n",
    "  Answer:\n",
    "\"\"\"\n",
    "\n",
    "prompt = PromptTemplate(template = prompt_template, input_variables = [\"context\", \"question\"])"
   ]
  },
  {
   "cell_type": "markdown",
   "source": [
    "## Create a question-answering chain"
   ],
   "metadata": {
    "collapsed": false
   }
  },
  {
   "cell_type": "code",
   "execution_count": 61,
   "metadata": {
    "id": "KVHhCwaEV_C-",
    "ExecuteTime": {
     "end_time": "2024-03-28T17:37:23.386032Z",
     "start_time": "2024-03-28T17:37:23.380032Z"
    }
   },
   "outputs": [],
   "source": [
    "from langchain_google_genai import ChatGoogleGenerativeAI\n",
    "\n",
    "safety_settings_NONE=[\n",
    "    { \"category\": \"HARM_CATEGORY_SEXUALLY_EXPLICIT\", \"threshold\": \"BLOCK_NONE\" },\n",
    "    { \"category\": \"HARM_CATEGORY_HATE_SPEECH\", \"threshold\": \"BLOCK_NONE\" },\n",
    "    { \"category\": \"HARM_CATEGORY_HARASSMENT\", \"threshold\": \"BLOCK_NONE\" },\n",
    "    { \"category\": \"HARM_CATEGORY_DANGEROUS_CONTENT\", \"threshold\": \"BLOCK_NONE\"},\n",
    "]\n",
    "\n",
    "llm = ChatGoogleGenerativeAI(model=\"gemini-pro\")\n",
    "model = genai.GenerativeModel(model_name='gemini-pro', safety_settings=safety_settings_NONE)\n",
    "llm.client = model\n",
    "\n",
    "chain = load_qa_chain(\n",
    "    llm=llm,\n",
    "    prompt=prompt,\n",
    "    output_key=\"output\",\n",
    ")"
   ]
  },
  {
   "cell_type": "markdown",
   "source": [
    "### Create a function to get the answer"
   ],
   "metadata": {
    "collapsed": false
   }
  },
  {
   "cell_type": "code",
   "execution_count": 62,
   "metadata": {
    "ExecuteTime": {
     "end_time": "2024-03-28T17:37:23.389338Z",
     "start_time": "2024-03-28T17:37:23.386032Z"
    }
   },
   "outputs": [],
   "source": [
    "def get_answer(question):\n",
    "  docs = vector_index.get_relevant_documents(question)\n",
    "  response = chain(\n",
    "      {\"input_documents\": docs, \"question\": question}\n",
    "      , return_only_outputs=True)\n",
    "  return response[\"output\"]"
   ]
  },
  {
   "cell_type": "markdown",
   "source": [
    "## Relevant Questions"
   ],
   "metadata": {
    "collapsed": false
   }
  },
  {
   "cell_type": "markdown",
   "metadata": {
    "collapsed": false
   },
   "source": [
    "### question 1"
   ]
  },
  {
   "cell_type": "code",
   "execution_count": 63,
   "metadata": {
    "collapsed": false,
    "ExecuteTime": {
     "end_time": "2024-03-28T17:37:34.772779Z",
     "start_time": "2024-03-28T17:37:23.389338Z"
    }
   },
   "outputs": [
    {
     "name": "stdout",
     "output_type": "stream",
     "text": [
      "Haziran ayının son günü veya Temmuz ayının ilk gününden başlayarak yaklaşık 20 günlük bir periyotta\n"
     ]
    }
   ],
   "source": [
    "question = \"IMAT sınavı için tercihler ne zaman yapılır?\"\n",
    "print(get_answer(question))"
   ]
  },
  {
   "cell_type": "markdown",
   "metadata": {
    "collapsed": false
   },
   "source": [
    "### question 2"
   ]
  },
  {
   "cell_type": "code",
   "execution_count": 64,
   "metadata": {
    "id": "cXRSauhDXsUW",
    "ExecuteTime": {
     "end_time": "2024-03-28T17:37:43.922085Z",
     "start_time": "2024-03-28T17:37:34.773775Z"
    }
   },
   "outputs": [
    {
     "name": "stdout",
     "output_type": "stream",
     "text": [
      "IMAT sınavı genel itibariyle İngilizce düzeyi B2 ve üzeri olan öğrenciler için çok zor değildir. Ancak özel bir çalışma gerektirmektedir.\n"
     ]
    }
   ],
   "source": [
    "question = \"IMAT sınavı zor mu?\"\n",
    "print(get_answer(question))"
   ]
  },
  {
   "cell_type": "markdown",
   "metadata": {
    "collapsed": false
   },
   "source": [
    "## Irrelevant Question"
   ]
  },
  {
   "cell_type": "code",
   "execution_count": 65,
   "metadata": {
    "colab": {
     "base_uri": "https://localhost:8080/"
    },
    "id": "qUH2ecfsXyLk",
    "outputId": "9fdacfb3-e3ef-49e5-830f-970732b40bcd",
    "ExecuteTime": {
     "end_time": "2024-03-28T17:37:54.374993Z",
     "start_time": "2024-03-28T17:37:43.922598Z"
    }
   },
   "outputs": [
    {
     "name": "stdout",
     "output_type": "stream",
     "text": [
      "Metinde bilgi bulunmamaktadır\n"
     ]
    }
   ],
   "source": [
    "irrelevant_question = \"Türkiye'nin başkenti neresidir?\"\n",
    "print(get_answer(irrelevant_question))"
   ]
  }
 ],
 "metadata": {
  "accelerator": "GPU",
  "colab": {
   "gpuType": "T4",
   "provenance": []
  },
  "kernelspec": {
   "display_name": "Python 3 (ipykernel)",
   "language": "python",
   "name": "python3"
  },
  "language_info": {
   "codemirror_mode": {
    "name": "ipython",
    "version": 3
   },
   "file_extension": ".py",
   "mimetype": "text/x-python",
   "name": "python",
   "nbconvert_exporter": "python",
   "pygments_lexer": "ipython3",
   "version": "3.11.0"
  }
 },
 "nbformat": 4,
 "nbformat_minor": 0
}
